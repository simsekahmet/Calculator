{
  "nbformat": 4,
  "nbformat_minor": 0,
  "metadata": {
    "colab": {
      "provenance": [],
      "authorship_tag": "ABX9TyNelCMM80GQO0uy+jfiqZFI",
      "include_colab_link": true
    },
    "kernelspec": {
      "name": "python3",
      "display_name": "Python 3"
    },
    "language_info": {
      "name": "python"
    }
  },
  "cells": [
    {
      "cell_type": "markdown",
      "metadata": {
        "id": "view-in-github",
        "colab_type": "text"
      },
      "source": [
        "<a href=\"https://colab.research.google.com/github/simsekahmet/Calculator/blob/main/Calculator.ipynb\" target=\"_parent\"><img src=\"https://colab.research.google.com/assets/colab-badge.svg\" alt=\"Open In Colab\"/></a>"
      ]
    },
    {
      "cell_type": "code",
      "execution_count": 5,
      "metadata": {
        "colab": {
          "base_uri": "https://localhost:8080/"
        },
        "id": "NTvdXmSloQg-",
        "outputId": "f1062545-5621-4c59-891e-76222e940398"
      },
      "outputs": [
        {
          "output_type": "stream",
          "name": "stdout",
          "text": [
            "Welcome to the Calculator!\n",
            "Operations:\n",
            "1. Addition\n",
            "2. Subtraction\n",
            "3. Multiplication\n",
            "4. Division\n",
            "5. Factorial\n",
            "6. Quit\n",
            "Enter the operation number (1-5): 5\n",
            "Enter the number: 34\n",
            "factorial of 34 is 295232799039604140847618609643520000000\n",
            "Do you want to perform another calculation? (y/n): y\n",
            "Enter the operation number (1-5): 3\n",
            "Enter the first number: 345\n",
            "Enter the second number: 5678\n",
            "Result:  1958910.0\n",
            "Do you want to perform another calculation? (y/n): n\n",
            "Calculator has been turned off.\n"
          ]
        }
      ],
      "source": [
        "def add(x, y):\n",
        "    return x + y\n",
        "\n",
        "def subtract(x, y):\n",
        "    return x - y\n",
        "\n",
        "def multiply(x, y):\n",
        "    return x * y\n",
        "\n",
        "def divide(x, y):\n",
        "    if y == 0:\n",
        "        return \"Error: Cannot divide by zero!\"\n",
        "    return x / y\n",
        "\n",
        "def factorial(x):\n",
        "  import math\n",
        "  if x == 0 & 1:\n",
        "    print(\"factorial of \", x, \" is 1.\")\n",
        "  elif x < 0:\n",
        "    print(\"Please, write positive x\")\n",
        "  else:\n",
        "    fac = [i for i in range(1,x+1)]\n",
        "    factorial = math.prod(fac)\n",
        "    print(\"factorial of\", x, \"is\", factorial)\n",
        "\n",
        "\n",
        "def calculator():\n",
        "    print(\"Welcome to the Calculator!\")\n",
        "    print(\"Operations:\")\n",
        "    print(\"1. Addition\")\n",
        "    print(\"2. Subtraction\")\n",
        "    print(\"3. Multiplication\")\n",
        "    print(\"4. Division\")\n",
        "    print(\"5. Factorial\")\n",
        "    print(\"6. Quit\")\n",
        "\n",
        "    while True:\n",
        "        choice = input(\"Enter the operation number (1-5): \")\n",
        "\n",
        "        if choice == '6':\n",
        "            print(\"Calculator has been turned off.\")\n",
        "            break\n",
        "\n",
        "        if choice not in ['1', '2', '3', '4', '5']:\n",
        "            print(\"Invalid input. Please try again.\")\n",
        "            continue\n",
        "\n",
        "        if choice == '1':\n",
        "            num1 = float(input(\"Enter the first number: \"))\n",
        "            num2 = float(input(\"Enter the second number: \"))\n",
        "            result = add(num1, num2)\n",
        "            print(\"Result: \", result)\n",
        "        elif choice == '2':\n",
        "            num1 = float(input(\"Enter the first number: \"))\n",
        "            num2 = float(input(\"Enter the second number: \"))\n",
        "            result = subtract(num1, num2)\n",
        "            print(\"Result: \", result)\n",
        "        elif choice == '3':\n",
        "            num1 = float(input(\"Enter the first number: \"))\n",
        "            num2 = float(input(\"Enter the second number: \"))\n",
        "            result = multiply(num1, num2)\n",
        "            print(\"Result: \", result)\n",
        "        elif choice == '4':\n",
        "            num1 = float(input(\"Enter the first number: \"))\n",
        "            num2 = float(input(\"Enter the second number: \"))\n",
        "            result = divide(num1, num2)\n",
        "            print(\"Result: \", result)\n",
        "        elif choice == '5':\n",
        "            num1 = int(input(\"Enter the number: \"))\n",
        "            result = factorial(num1)\n",
        "\n",
        "        continue_calc = input(\"Do you want to perform another calculation? (y/n): \")\n",
        "        if continue_calc.lower() != 'y':\n",
        "            print(\"Calculator has been turned off.\")\n",
        "            break\n",
        "\n",
        "calculator()\n"
      ]
    }
  ]
}